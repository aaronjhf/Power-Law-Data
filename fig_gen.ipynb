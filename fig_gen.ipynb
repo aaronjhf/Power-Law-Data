{
 "cells": [
  {
   "cell_type": "markdown",
   "id": "7fb73bc4",
   "metadata": {},
   "source": [
    "# Figures "
   ]
  },
  {
   "cell_type": "code",
   "execution_count": null,
   "id": "1e8094eb",
   "metadata": {},
   "outputs": [],
   "source": [
    "import sys\n",
    "sys.path.insert(0, 'src')\n",
    "\n",
    "from powerlawdata.solver import silverstein_density, end_pts\n",
    "from powerlawdata.datasets import load_cifar10, load_mnist, get_dataset\n",
    "\n",
    "import numpy as np\n",
    "from matplotlib import pyplot as plt\n",
    "import seaborn as sns \n",
    "import torch\n",
    "from IPython.display import display, Latex\n",
    "\n",
    "device = torch.device(\"cuda\" if torch.cuda.is_available() else \"cpu\")\n",
    "\n"
   ]
  },
  {
   "cell_type": "markdown",
   "id": "e393bc74",
   "metadata": {},
   "source": [
    "power law population density generation"
   ]
  },
  {
   "cell_type": "code",
   "execution_count": 3,
   "id": "0a45c7d7",
   "metadata": {},
   "outputs": [],
   "source": [
    "def gen_lambda(M, alpha):\n",
    "    return torch.diag(torch.tensor([ float(k**(-alpha)) for k in range(1, M+1)], device = device))"
   ]
  }
 ],
 "metadata": {
  "kernelspec": {
   "display_name": "venv",
   "language": "python",
   "name": "python3"
  },
  "language_info": {
   "codemirror_mode": {
    "name": "ipython",
    "version": 3
   },
   "file_extension": ".py",
   "mimetype": "text/x-python",
   "name": "python",
   "nbconvert_exporter": "python",
   "pygments_lexer": "ipython3",
   "version": "3.13.1"
  }
 },
 "nbformat": 4,
 "nbformat_minor": 5
}
